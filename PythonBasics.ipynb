{
 "cells": [
  {
   "cell_type": "markdown",
   "metadata": {},
   "source": [
    "# Python Basics\n",
    "Authors: Allmin Susaiyah\n",
    "\n",
    "name of student: <fill your name>\n",
    "\n",
    "In this notebook, various basic operations of python are covered.\n",
    "shift + Enter will excecute each cell"
   ]
  },
  {
   "cell_type": "markdown",
   "metadata": {},
   "source": [
    "## Variables in python"
   ]
  },
  {
   "cell_type": "code",
   "execution_count": 15,
   "metadata": {},
   "outputs": [
    {
     "data": {
      "text/plain": [
       "int"
      ]
     },
     "execution_count": 15,
     "metadata": {},
     "output_type": "execute_result"
    }
   ],
   "source": [
    "a = 54\n",
    "a == 54\n",
    "type(a)"
   ]
  },
  {
   "cell_type": "code",
   "execution_count": 16,
   "metadata": {},
   "outputs": [
    {
     "name": "stdout",
     "output_type": "stream",
     "text": [
      "54\n"
     ]
    }
   ],
   "source": [
    "print(a)"
   ]
  },
  {
   "cell_type": "code",
   "execution_count": 22,
   "metadata": {},
   "outputs": [],
   "source": [
    "b = 104.9 #float\n",
    "c = \"78923'56'4879\"\n",
    "d = False #boolean"
   ]
  },
  {
   "cell_type": "code",
   "execution_count": 23,
   "metadata": {},
   "outputs": [
    {
     "name": "stdout",
     "output_type": "stream",
     "text": [
      "104.9\n",
      "78923'56'4879\n",
      "False\n"
     ]
    }
   ],
   "source": [
    "print(b)\n",
    "print(c)\n",
    "print(d)"
   ]
  },
  {
   "cell_type": "code",
   "execution_count": 24,
   "metadata": {},
   "outputs": [
    {
     "name": "stdout",
     "output_type": "stream",
     "text": [
      "104\n"
     ]
    }
   ],
   "source": [
    "# typ convertions\n",
    "\n",
    "b = int(b)\n",
    "print(b)"
   ]
  },
  {
   "cell_type": "markdown",
   "metadata": {},
   "source": [
    "## Arithmetic operations in python"
   ]
  },
  {
   "cell_type": "code",
   "execution_count": 34,
   "metadata": {},
   "outputs": [
    {
     "name": "stdout",
     "output_type": "stream",
     "text": [
      "158\n",
      "3\n"
     ]
    }
   ],
   "source": [
    "x = a + b\n",
    "y = 1 + 2\n",
    "\n",
    "print(x)\n",
    "print(y)"
   ]
  },
  {
   "cell_type": "code",
   "execution_count": 33,
   "metadata": {},
   "outputs": [
    {
     "name": "stdout",
     "output_type": "stream",
     "text": [
      "-56.5\n"
     ]
    }
   ],
   "source": [
    "y -= 10 #     y = y + 10\n",
    "print(y)"
   ]
  },
  {
   "cell_type": "code",
   "execution_count": 41,
   "metadata": {},
   "outputs": [
    {
     "name": "stdout",
     "output_type": "stream",
     "text": [
      "electricvehicle\n",
      "False\n",
      "True\n",
      "electric\n",
      "India\n"
     ]
    }
   ],
   "source": [
    "#string addition\n",
    "str1 = 'electric'\n",
    "str2 = 'vehicle'\n",
    "str3 = str1 + str2\n",
    "print(str3)\n",
    "\n",
    "# string operations\n",
    "print(str1.startswith('Elec'))\n",
    "print(str1.endswith('ic'))\n",
    "print(str1.lower())\n",
    "str1.replace('e','E')\n",
    "\n",
    "str1 = \"india\"\n",
    "print(str1.capitalize())\n"
   ]
  },
  {
   "cell_type": "markdown",
   "metadata": {},
   "source": [
    "# Data structures in python"
   ]
  },
  {
   "cell_type": "code",
   "execution_count": 46,
   "metadata": {},
   "outputs": [
    {
     "name": "stdout",
     "output_type": "stream",
     "text": [
      "[1, 2, 'hello', 45.9, True]\n",
      "5\n",
      "(5, '4', 5, '4')\n"
     ]
    }
   ],
   "source": [
    "# lists\n",
    "l1 = [1,2,'hello', 45.9, True]\n",
    "print(l1)\n",
    "\n",
    "#tuples\n",
    "tup = (5,'4')\n",
    "print(tup[0])\n",
    "print(tup * 2)"
   ]
  },
  {
   "cell_type": "code",
   "execution_count": 50,
   "metadata": {},
   "outputs": [
    {
     "name": "stdout",
     "output_type": "stream",
     "text": [
      "Rupees\n",
      "False\n",
      "True\n",
      "dict_items([('Japan', 'Yen'), ('India', 'Rupees'), ('USA', 'USD')])\n"
     ]
    }
   ],
   "source": [
    "#dictionaries\n",
    "currency = {'Japan':'Yen', 'India':'Rupees', 'USA':'USD'}\n",
    "print(currency['India'])\n",
    "\n",
    "#\n",
    "print('helloo' in l1)\n",
    "print(5 in tup)\n",
    "print(currency.items())"
   ]
  },
  {
   "cell_type": "code",
   "execution_count": 51,
   "metadata": {},
   "outputs": [
    {
     "name": "stdout",
     "output_type": "stream",
     "text": [
      "[]\n",
      "[1]\n",
      "[1, 2]\n"
     ]
    }
   ],
   "source": [
    "#appending\n",
    "l1 = []\n",
    "print(l1)\n",
    "l1.append(1)\n",
    "print(l1)\n",
    "l1.append(2)\n",
    "print(l1)\n"
   ]
  },
  {
   "cell_type": "code",
   "execution_count": null,
   "metadata": {},
   "outputs": [],
   "source": []
  },
  {
   "cell_type": "markdown",
   "metadata": {},
   "source": [
    "# loops in python"
   ]
  },
  {
   "cell_type": "code",
   "execution_count": 57,
   "metadata": {},
   "outputs": [
    {
     "name": "stdout",
     "output_type": "stream",
     "text": [
      "10\n"
     ]
    }
   ],
   "source": [
    "l1 = 0\n",
    "for i in range(5):\n",
    "    l1 += i\n",
    "print(l1)\n",
    "    \n"
   ]
  },
  {
   "cell_type": "code",
   "execution_count": 58,
   "metadata": {
    "scrolled": true
   },
   "outputs": [
    {
     "name": "stdout",
     "output_type": "stream",
     "text": [
      "j is 0\n",
      "0 0\n",
      "j is 1\n",
      "0 1\n",
      "j is 2\n",
      "breaking j because j is 2\n",
      "j is 0\n",
      "1 0\n",
      "j is 1\n",
      "1 1\n",
      "j is 2\n",
      "breaking j because j is 2\n",
      "j is 0\n",
      "2 0\n",
      "j is 1\n",
      "2 1\n",
      "j is 2\n",
      "breaking j because j is 2\n",
      "j is 0\n",
      "3 0\n",
      "j is 1\n",
      "3 1\n",
      "j is 2\n",
      "breaking j because j is 2\n",
      "j is 0\n",
      "4 0\n",
      "j is 1\n",
      "4 1\n",
      "j is 2\n",
      "breaking j because j is 2\n"
     ]
    }
   ],
   "source": [
    "#nested\n",
    "for i in range(5):\n",
    "    for j in range(5):\n",
    "        print('j is',j)\n",
    "        if j == 2:\n",
    "            print(\"breaking j because j is 2\")\n",
    "            break\n",
    "        print(i,j)\n",
    "        "
   ]
  },
  {
   "cell_type": "code",
   "execution_count": 59,
   "metadata": {},
   "outputs": [
    {
     "name": "stdout",
     "output_type": "stream",
     "text": [
      "2\n",
      "3\n",
      "4\n",
      "5\n",
      "6\n",
      "7\n",
      "8\n",
      "9\n"
     ]
    }
   ],
   "source": [
    "#complex for loops\n",
    "for i in range(2,10):\n",
    "    print(i)"
   ]
  },
  {
   "cell_type": "code",
   "execution_count": 60,
   "metadata": {},
   "outputs": [
    {
     "name": "stdout",
     "output_type": "stream",
     "text": [
      "2\n",
      "5\n",
      "8\n"
     ]
    }
   ],
   "source": [
    "for i in range(2,10,3):\n",
    "    print(i)"
   ]
  },
  {
   "cell_type": "code",
   "execution_count": 61,
   "metadata": {},
   "outputs": [
    {
     "name": "stdout",
     "output_type": "stream",
     "text": [
      "1\n",
      "2\n",
      "3\n",
      "4\n",
      "5\n",
      "6\n",
      "7\n",
      "8\n",
      "9\n",
      "10\n",
      "11\n",
      "12\n",
      "13\n",
      "14\n",
      "15\n",
      "16\n",
      "17\n",
      "18\n",
      "19\n",
      "20\n",
      "21\n",
      "22\n",
      "23\n",
      "24\n",
      "25\n",
      "26\n",
      "27\n",
      "28\n",
      "29\n",
      "30\n",
      "31\n",
      "32\n",
      "33\n",
      "34\n",
      "35\n",
      "36\n",
      "37\n",
      "38\n",
      "39\n",
      "40\n",
      "41\n",
      "42\n",
      "43\n",
      "44\n",
      "45\n",
      "46\n",
      "47\n",
      "48\n",
      "49\n",
      "50\n",
      "51\n",
      "52\n",
      "53\n",
      "54\n",
      "55\n",
      "56\n",
      "57\n",
      "58\n",
      "59\n",
      "60\n",
      "61\n",
      "62\n",
      "63\n",
      "64\n",
      "65\n",
      "66\n",
      "67\n",
      "68\n",
      "69\n",
      "70\n",
      "71\n",
      "72\n",
      "73\n",
      "74\n",
      "75\n",
      "76\n",
      "77\n",
      "78\n",
      "79\n",
      "80\n",
      "81\n",
      "82\n",
      "83\n",
      "84\n",
      "85\n",
      "86\n",
      "87\n",
      "88\n",
      "89\n",
      "90\n",
      "91\n",
      "92\n",
      "93\n",
      "94\n",
      "95\n",
      "96\n",
      "97\n",
      "98\n",
      "99\n",
      "100\n"
     ]
    }
   ],
   "source": [
    "#loop using while\n",
    "i = 0 \n",
    "while (True):\n",
    "    i+=1\n",
    "    print(i)\n",
    "    if i == 100:\n",
    "        break\n",
    "    \n"
   ]
  },
  {
   "cell_type": "markdown",
   "metadata": {},
   "source": [
    "# Exception Handling"
   ]
  },
  {
   "cell_type": "code",
   "execution_count": 62,
   "metadata": {},
   "outputs": [
    {
     "ename": "ZeroDivisionError",
     "evalue": "division by zero",
     "output_type": "error",
     "traceback": [
      "\u001b[1;31m---------------------------------------------------------------------------\u001b[0m",
      "\u001b[1;31mZeroDivisionError\u001b[0m                         Traceback (most recent call last)",
      "\u001b[1;32m<ipython-input-62-84232b2bae1b>\u001b[0m in \u001b[0;36m<module>\u001b[1;34m\u001b[0m\n\u001b[0;32m      1\u001b[0m \u001b[1;32mfor\u001b[0m \u001b[0mi\u001b[0m \u001b[1;32min\u001b[0m \u001b[0mrange\u001b[0m\u001b[1;33m(\u001b[0m\u001b[1;36m5\u001b[0m\u001b[1;33m)\u001b[0m\u001b[1;33m:\u001b[0m\u001b[1;33m\u001b[0m\u001b[1;33m\u001b[0m\u001b[0m\n\u001b[1;32m----> 2\u001b[1;33m     \u001b[0mprint\u001b[0m\u001b[1;33m(\u001b[0m\u001b[1;36m1\u001b[0m\u001b[1;33m/\u001b[0m\u001b[0mi\u001b[0m\u001b[1;33m)\u001b[0m\u001b[1;33m\u001b[0m\u001b[1;33m\u001b[0m\u001b[0m\n\u001b[0m",
      "\u001b[1;31mZeroDivisionError\u001b[0m: division by zero"
     ]
    }
   ],
   "source": [
    "for i in range(5):\n",
    "    print(1/i)"
   ]
  },
  {
   "cell_type": "code",
   "execution_count": 63,
   "metadata": {},
   "outputs": [
    {
     "name": "stdout",
     "output_type": "stream",
     "text": [
      "1/0 is infinity\n",
      "1.0\n",
      "0.5\n",
      "0.3333333333333333\n",
      "0.25\n"
     ]
    }
   ],
   "source": [
    "for i in range(5):\n",
    "    try:\n",
    "        print(1/i)\n",
    "    except ZeroDivisionError:\n",
    "        print('1/{} is infinity'.format(i))"
   ]
  },
  {
   "cell_type": "markdown",
   "metadata": {},
   "source": [
    "# Conditional Statements"
   ]
  },
  {
   "cell_type": "code",
   "execution_count": 66,
   "metadata": {},
   "outputs": [
    {
     "name": "stdout",
     "output_type": "stream",
     "text": [
      "a is not 10\n"
     ]
    }
   ],
   "source": [
    "a = 8\n",
    "if a == 10:\n",
    "    print('yes a is 10')\n",
    "    print('hi')\n",
    "else:\n",
    "    print('a is not 10')"
   ]
  },
  {
   "cell_type": "code",
   "execution_count": 68,
   "metadata": {},
   "outputs": [
    {
     "name": "stdout",
     "output_type": "stream",
     "text": [
      "less than 5\n"
     ]
    }
   ],
   "source": [
    "#using elif\n",
    "a = 3\n",
    "if a < 5:\n",
    "    print('less than 5')\n",
    "elif a <= 10:\n",
    "    print('between 5 and 10')\n",
    "else:\n",
    "    print('greater than 10')"
   ]
  },
  {
   "cell_type": "markdown",
   "metadata": {},
   "source": [
    "# Input Block and Formatting\n",
    "\n",
    "To receive input from user"
   ]
  },
  {
   "cell_type": "code",
   "execution_count": 71,
   "metadata": {},
   "outputs": [
    {
     "name": "stdout",
     "output_type": "stream",
     "text": [
      "Enter your name123\n",
      "Hi 123 how are you?\n"
     ]
    }
   ],
   "source": [
    "name = input('Enter your name')\n",
    "output = 'Hi {} how are you?'.format(name)\n",
    "print(output)"
   ]
  },
  {
   "cell_type": "code",
   "execution_count": 72,
   "metadata": {},
   "outputs": [
    {
     "name": "stdout",
     "output_type": "stream",
     "text": [
      "Enter your nameAllmin\n",
      "Enter your sicknesshealth\n",
      "Hi Allmin how is your health?\n"
     ]
    }
   ],
   "source": [
    "name = input('Enter your name')\n",
    "sickness = input('Enter your sickness')\n",
    "output = 'Hi {} how is your {}?'.format(name, sickness)\n",
    "print(output)"
   ]
  },
  {
   "cell_type": "code",
   "execution_count": 73,
   "metadata": {},
   "outputs": [
    {
     "name": "stdout",
     "output_type": "stream",
     "text": [
      "95.57\n",
      "000034\n"
     ]
    }
   ],
   "source": [
    "f = 95.5677940\n",
    "k = 34\n",
    "print('{:0.2f}'.format(f))\n",
    "print('{:06d}'.format(k))"
   ]
  },
  {
   "cell_type": "markdown",
   "metadata": {},
   "source": [
    "# Functions"
   ]
  },
  {
   "cell_type": "code",
   "execution_count": 78,
   "metadata": {},
   "outputs": [
    {
     "name": "stdout",
     "output_type": "stream",
     "text": [
      "None\n"
     ]
    }
   ],
   "source": [
    "def add(a,b):\n",
    "    result = a+b\n",
    "    return result\n",
    "\n",
    "add(5,6)\n",
    "\n",
    "def add():\n",
    "    result = 4+6\n",
    "    \n",
    "\n",
    "print(add())"
   ]
  },
  {
   "cell_type": "code",
   "execution_count": 79,
   "metadata": {},
   "outputs": [
    {
     "name": "stdout",
     "output_type": "stream",
     "text": [
      "81 9 9\n",
      "The product of 9 and 9 is 81\n"
     ]
    }
   ],
   "source": [
    "def multiply(m,n):\n",
    "    product = m*n\n",
    "    return product, m , n\n",
    "\n",
    "prod, num1 , num2 = multiply(9,9)\n",
    "print(prod,num1,num2)\n",
    "print('The product of {} and {} is {}'.format(num1,num2,prod))"
   ]
  },
  {
   "cell_type": "code",
   "execution_count": 83,
   "metadata": {},
   "outputs": [
    {
     "name": "stdout",
     "output_type": "stream",
     "text": [
      "surname, first name\n"
     ]
    }
   ],
   "source": [
    "arg1 = 'first name'\n",
    "arg2 = 'surname'\n",
    "output = 'surname, first name'\n",
    "print(arg2 + ', ' + arg1)"
   ]
  },
  {
   "cell_type": "markdown",
   "metadata": {},
   "source": [
    "# Libraries\n"
   ]
  },
  {
   "cell_type": "code",
   "execution_count": 95,
   "metadata": {},
   "outputs": [
    {
     "name": "stdout",
     "output_type": "stream",
     "text": [
      "[0.18639918 0.23808119 0.97251966 0.07382497 0.32727439 0.16638507\n",
      " 0.96050527 0.15991051 0.16687795 0.91209167]\n"
     ]
    },
    {
     "data": {
      "text/plain": [
       "<module 'numpy' from 'C:\\\\Users\\\\310276324\\\\AppData\\\\Local\\\\Continuum\\\\anaconda3\\\\lib\\\\site-packages\\\\numpy\\\\__init__.py'>"
      ]
     },
     "execution_count": 95,
     "metadata": {},
     "output_type": "execute_result"
    }
   ],
   "source": [
    "import numpy as np\n",
    "from numpy import random\n",
    "\n",
    "arr = np.random.rand(10,10)\n",
    "# print(arr)\n",
    "\n",
    "print(arr[0,:])\n",
    "\n",
    "np\n"
   ]
  },
  {
   "cell_type": "code",
   "execution_count": 126,
   "metadata": {},
   "outputs": [
    {
     "name": "stdout",
     "output_type": "stream",
     "text": [
      "[10, 24, 3, 2, 12]\n"
     ]
    }
   ],
   "source": [
    "import random\n",
    "randomlist = []\n",
    "for i in range(0,5):\n",
    "    n = random.randint(1,30)\n",
    "    randomlist.append(n)\n",
    "print(randomlist)\n"
   ]
  },
  {
   "cell_type": "code",
   "execution_count": 127,
   "metadata": {},
   "outputs": [
    {
     "name": "stdout",
     "output_type": "stream",
     "text": [
      "C:\\Users\\310276324\\Documents\\Personal\\MyWorkshops\\hindustan\\mlworkshop\n"
     ]
    }
   ],
   "source": [
    "# folder operations\n",
    "import os\n",
    "d = os.getcwd()\n",
    "print(d)"
   ]
  },
  {
   "cell_type": "code",
   "execution_count": 129,
   "metadata": {},
   "outputs": [
    {
     "name": "stdout",
     "output_type": "stream",
     "text": [
      "['C:\\\\Users\\\\310276324\\\\Documents\\\\Personal\\\\MyWorkshops\\\\hindustan\\\\mlworkshop\\\\ImageClassification.ipynb', 'C:\\\\Users\\\\310276324\\\\Documents\\\\Personal\\\\MyWorkshops\\\\hindustan\\\\mlworkshop\\\\MachineLearning.ipynb', 'C:\\\\Users\\\\310276324\\\\Documents\\\\Personal\\\\MyWorkshops\\\\hindustan\\\\mlworkshop\\\\PythonBasics.ipynb']\n",
      "['C:\\\\Users\\\\310276324\\\\Documents\\\\Personal\\\\MyWorkshops\\\\hindustan\\\\mlworkshop\\\\PythonBasics.ipynb', 'C:\\\\Users\\\\310276324\\\\Documents\\\\Personal\\\\MyWorkshops\\\\hindustan\\\\mlworkshop\\\\MachineLearning.ipynb', 'C:\\\\Users\\\\310276324\\\\Documents\\\\Personal\\\\MyWorkshops\\\\hindustan\\\\mlworkshop\\\\ImageClassification.ipynb']\n",
      "ImageClassification.ipynb\n",
      "MachineLearning.ipynb\n",
      "PythonBasics.ipynb\n"
     ]
    }
   ],
   "source": [
    "from glob import glob\n",
    "result = glob(d+'/*.ipynb')\n",
    "print(result)\n",
    "print(result[::-1])\n",
    "\n",
    "\n",
    "for i in result:\n",
    "    print(os.path.basename(i))"
   ]
  },
  {
   "cell_type": "code",
   "execution_count": 133,
   "metadata": {},
   "outputs": [
    {
     "name": "stdout",
     "output_type": "stream",
     "text": [
      "['C:\\\\Users\\\\310276324\\\\Documents\\\\Personal\\\\MyWorkshops\\\\hindustan\\\\mlworkshop\\\\Part1-Machine Learning Approaches for advanced Industrial Applications.pdf', 'C:\\\\Users\\\\310276324\\\\Documents\\\\Personal\\\\MyWorkshops\\\\hindustan\\\\mlworkshop\\\\Part1-Machine Learning Approaches for advanced Industrial Applications.pptx']\n"
     ]
    }
   ],
   "source": [
    "from glob import glob\n",
    "result2 = glob(d+'/P*1*Li*.*')\n",
    "print(result2)\n"
   ]
  },
  {
   "cell_type": "markdown",
   "metadata": {},
   "source": [
    "# First Python Project\n"
   ]
  },
  {
   "cell_type": "code",
   "execution_count": null,
   "metadata": {},
   "outputs": [],
   "source": [
    "# create a calculator app\n",
    "\n",
    "# display options\n",
    "# get operation\n",
    "# get operand\n",
    "# display output\n",
    "\n"
   ]
  },
  {
   "cell_type": "code",
   "execution_count": 134,
   "metadata": {},
   "outputs": [
    {
     "name": "stdout",
     "output_type": "stream",
     "text": [
      "enter a and b(4,5)\n",
      "4\n",
      "5\n"
     ]
    }
   ],
   "source": [
    "(a,b) = eval(input('enter a and b'))\n",
    "print(a)\n",
    "print(b)"
   ]
  }
 ],
 "metadata": {
  "kernelspec": {
   "display_name": "Python 3",
   "language": "python",
   "name": "python3"
  },
  "language_info": {
   "codemirror_mode": {
    "name": "ipython",
    "version": 3
   },
   "file_extension": ".py",
   "mimetype": "text/x-python",
   "name": "python",
   "nbconvert_exporter": "python",
   "pygments_lexer": "ipython3",
   "version": "3.7.3"
  }
 },
 "nbformat": 4,
 "nbformat_minor": 2
}
