{
 "cells": [
  {
   "cell_type": "markdown",
   "metadata": {},
   "source": [
    "# Python Basics\n",
    "Authors: Allmin Susaiyah\n",
    "\n",
    "name of student: <fill your name>\n",
    "\n",
    "In this notebook, various basic operations of python are covered.\n",
    "shift + Enter will excecute each cell"
   ]
  },
  {
   "cell_type": "markdown",
   "metadata": {},
   "source": [
    "## Variables in python"
   ]
  },
  {
   "cell_type": "code",
   "execution_count": null,
   "metadata": {},
   "outputs": [],
   "source": [
    "# Assigning integer value to variable 'a'\n",
    "a = 54\n",
    "# Checking if 'a' is equal to 54\n",
    "a == 54\n",
    "# Displaying the type of 'a'\n",
    "type(a)\n"
   ]
  },
  {
   "cell_type": "code",
   "execution_count": null,
   "metadata": {},
   "outputs": [],
   "source": [
    "# Printing the value of 'a'\n",
    "print(a)"
   ]
  },
  {
   "cell_type": "code",
   "execution_count": null,
   "metadata": {},
   "outputs": [],
   "source": [
    "# Assigning float value to variable 'b'\n",
    "b = 104.9\n",
    "# Assigning string to variable 'c'\n",
    "c = \"78923'56'4879\"\n",
    "# Assigning boolean value to variable 'd'\n",
    "d = False"
   ]
  },
  {
   "cell_type": "code",
   "execution_count": null,
   "metadata": {},
   "outputs": [],
   "source": [
    "# Printing the values of 'b', 'c', and 'd'\n",
    "print(b)\n",
    "print(c)\n",
    "print(d)"
   ]
  },
  {
   "cell_type": "code",
   "execution_count": null,
   "metadata": {},
   "outputs": [],
   "source": [
    "# Type conversion: converting 'b' from float to integer\n",
    "b = int(b)\n",
    "# Printing the new value of 'b'\n",
    "print(b)"
   ]
  },
  {
   "cell_type": "markdown",
   "metadata": {},
   "source": [
    "## Arithmetic operations in python"
   ]
  },
  {
   "cell_type": "code",
   "execution_count": null,
   "metadata": {},
   "outputs": [],
   "source": [
    "## Arithmetic operations in Python\n",
    "\n",
    "# Performing addition using variables 'a' and 'b'\n",
    "x = a + b\n",
    "# Performing addition of 1 and 2\n",
    "y = 1 + 2\n",
    "\n",
    "# Printing the results of addition\n",
    "print(x)\n",
    "print(y)"
   ]
  },
  {
   "cell_type": "code",
   "execution_count": null,
   "metadata": {},
   "outputs": [],
   "source": [
    "# Subtraction assignment: subtracting 10 from 'y'\n",
    "y -= 10\n",
    "# Printing the updated value of 'y'\n",
    "print(y)"
   ]
  },
  {
   "cell_type": "code",
   "execution_count": null,
   "metadata": {},
   "outputs": [],
   "source": [
    "# String addition\n",
    "str1 = 'electric'\n",
    "str2 = 'vehicle'\n",
    "str3 = str1 + str2\n",
    "# Printing the concatenated string\n",
    "print(str3)"
   ]
  },
  {
   "cell_type": "code",
   "execution_count": null,
   "metadata": {},
   "outputs": [],
   "source": [
    "# String operations\n",
    "print(str1.startswith('Elec'))\n",
    "print(str1.endswith('ic'))\n",
    "print(str1.lower())\n",
    "# Note: The result of str1.replace('e','E') is not printed or assigned to a variable.\n",
    "# It could be updated like this: str1 = str1.replace('e','E')"
   ]
  },
  {
   "cell_type": "code",
   "execution_count": null,
   "metadata": {},
   "outputs": [],
   "source": [
    "str1 = \"india\"\n",
    "# Capitalizing the first letter of the string\n",
    "print(str1.capitalize())"
   ]
  },
  {
   "cell_type": "markdown",
   "metadata": {},
   "source": [
    "# Data structures in python"
   ]
  },
  {
   "cell_type": "code",
   "execution_count": null,
   "metadata": {},
   "outputs": [],
   "source": [
    "# Lists\n",
    "# Creating a list with various data types\n",
    "l1 = [1,2,'hello', 45.9, True]\n",
    "# Printing the list\n",
    "print(l1)\n",
    "\n",
    "# Tuples\n",
    "# Creating a tuple with integer and string\n",
    "tup = (5,'4')\n",
    "# Printing the first element of the tuple\n",
    "print(tup[0])\n",
    "# Printing the tuple repeated twice\n",
    "print(tup * 2)"
   ]
  },
  {
   "cell_type": "code",
   "execution_count": null,
   "metadata": {},
   "outputs": [],
   "source": [
    "# Creating a dictionary with country currencies\n",
    "currency = {'Japan':'Yen', 'India':'Rupees', 'USA':'USD'}\n",
    "# Printing the currency for 'India'\n",
    "print(currency['India'])\n",
    "\n",
    "# Checking membership in lists, tuples, and dictionaries\n",
    "\n",
    "# Checking if the string 'helloo' is present in the list 'l1'\n",
    "print('helloo' in l1)\n",
    "\n",
    "# Checking if the integer 5 is present in the tuple 'tup'\n",
    "print(5 in tup)\n",
    "\n",
    "# Checking membership in a dictionary ('currency' dictionary in this case)\n",
    "# The result is a view object displaying a list of a dictionary's key-value pairs\n",
    "print(currency.items())\n",
    "\n"
   ]
  },
  {
   "cell_type": "code",
   "execution_count": null,
   "metadata": {},
   "outputs": [],
   "source": [
    "# Appending to a list\n",
    "\n",
    "# Creating an empty list 'l1'\n",
    "l1 = []\n",
    "# Printing the initial state of the list\n",
    "print(l1)\n",
    "\n",
    "# Appending the integer 1 to the list 'l1'\n",
    "l1.append(1)\n",
    "# Printing the updated list after the first append operation\n",
    "print(l1)\n",
    "\n",
    "# Appending the integer 2 to the list 'l1'\n",
    "l1.append(2)\n",
    "# Printing the final state of the list after the second append operation\n",
    "print(l1)\n"
   ]
  },
  {
   "cell_type": "markdown",
   "metadata": {},
   "source": [
    "# loops in python"
   ]
  },
  {
   "cell_type": "code",
   "execution_count": null,
   "metadata": {},
   "outputs": [],
   "source": [
    "# Initializing 'l1' to 0\n",
    "l1 = 0\n",
    "# Looping over the range from 0 to 4 and updating 'l1'\n",
    "for i in range(5):\n",
    "    l1 += i\n",
    "# Printing the final value of 'l1'\n",
    "print(l1)"
   ]
  },
  {
   "cell_type": "code",
   "execution_count": null,
   "metadata": {
    "scrolled": true
   },
   "outputs": [],
   "source": [
    "# Nested loops\n",
    "for i in range(5):\n",
    "    for j in range(5):\n",
    "        print('j is',j)\n",
    "        if j == 2:\n",
    "            print(\"breaking j because j is 2\")\n",
    "            break\n",
    "        print(i,j)"
   ]
  },
  {
   "cell_type": "code",
   "execution_count": null,
   "metadata": {},
   "outputs": [],
   "source": [
    "# Complex for loops\n",
    "\n",
    "# Looping through the range from 2 to 9 (10 is excluded)\n",
    "for i in range(2, 10):\n",
    "    # Printing the current value of 'i' in each iteration\n",
    "    print(i)\n"
   ]
  },
  {
   "cell_type": "code",
   "execution_count": null,
   "metadata": {},
   "outputs": [],
   "source": [
    "# Complex for loop with step\n",
    "\n",
    "# Looping through the range from 2 to 10 with a step of 3\n",
    "for i in range(2, 10, 3):\n",
    "    # Printing the current value of 'i' in each iteration\n",
    "    print(i)\n"
   ]
  },
  {
   "cell_type": "code",
   "execution_count": null,
   "metadata": {},
   "outputs": [],
   "source": [
    "# Loop using while\n",
    "\n",
    "# Initializing the variable 'i' to 0\n",
    "i = 0 \n",
    "\n",
    "# Infinite loop (while True) that increments 'i' in each iteration\n",
    "while (True):\n",
    "    # Incrementing 'i' by 1 in each iteration\n",
    "    i += 1\n",
    "    # Printing the current value of 'i'\n",
    "    print(i)\n",
    "\n",
    "    # Breaking out of the loop when 'i' reaches 100\n",
    "    if i == 100:\n",
    "        break\n"
   ]
  },
  {
   "cell_type": "markdown",
   "metadata": {},
   "source": [
    "# Exception Handling"
   ]
  },
  {
   "cell_type": "code",
   "execution_count": null,
   "metadata": {},
   "outputs": [],
   "source": [
    "# Loop to demonstrate \"division by zero\" exception. See the next cell to see how to fix this.\n",
    "for i in range(5):\n",
    "    print(1/i)    "
   ]
  },
  {
   "cell_type": "code",
   "execution_count": null,
   "metadata": {},
   "outputs": [],
   "source": [
    "# Handling ZeroDivisionError using try-except block\n",
    "for i in range(5):\n",
    "    try:\n",
    "        print(1/i)\n",
    "    except ZeroDivisionError:\n",
    "        print('1/{} is infinity'.format(i))"
   ]
  },
  {
   "cell_type": "markdown",
   "metadata": {},
   "source": [
    "# Conditional Statements"
   ]
  },
  {
   "cell_type": "code",
   "execution_count": null,
   "metadata": {},
   "outputs": [],
   "source": [
    "# Checking if 'a' is equal to 10\n",
    "a = 8\n",
    "if a == 10:\n",
    "    print('yes a is 10')\n",
    "    print('hi')\n",
    "else:\n",
    "    print('a is not 10')"
   ]
  },
  {
   "cell_type": "code",
   "execution_count": null,
   "metadata": {},
   "outputs": [],
   "source": [
    "# Using elif\n",
    "a = 3\n",
    "if a < 5:\n",
    "    print('less than 5')\n",
    "elif a <= 10:\n",
    "    print('between 5 and 10')\n",
    "else:\n",
    "    print('greater than 10')"
   ]
  },
  {
   "cell_type": "markdown",
   "metadata": {},
   "source": [
    "# Input Block and Formatting\n",
    "\n",
    "To receive input from user"
   ]
  },
  {
   "cell_type": "code",
   "execution_count": null,
   "metadata": {},
   "outputs": [],
   "source": [
    "# Receiving input from the user\n",
    "name = input('Enter your name')\n",
    "\n",
    "# Formatting and printing a greeting message using the format method\n",
    "output = 'Hi {} how are you?'.format(name)\n",
    "print(output)\n",
    "\n",
    "# Alternative: Formatting and printing a greeting message using f-strings (formatted string literals)\n",
    "output = f'Hi {name} how are you?'\n",
    "print(output)\n"
   ]
  },
  {
   "cell_type": "code",
   "execution_count": null,
   "metadata": {},
   "outputs": [],
   "source": [
    "# Receiving input for name and sickness\n",
    "name = input('Enter your name')\n",
    "sickness = input('Enter your sickness')\n",
    "# Formatting and printing a message about health\n",
    "output = f'Hi {name} how is your {sickness}?'\n",
    "print(output)"
   ]
  },
  {
   "cell_type": "code",
   "execution_count": null,
   "metadata": {},
   "outputs": [],
   "source": [
    "# Formatting and printing floating-point and integer numbers\n",
    "f = 95.5677940\n",
    "k = 34\n",
    "print(f'{f:0.2f}')\n",
    "print(f'{k:06d}')"
   ]
  },
  {
   "cell_type": "markdown",
   "metadata": {},
   "source": [
    "# Functions"
   ]
  },
  {
   "cell_type": "code",
   "execution_count": 2,
   "metadata": {},
   "outputs": [
    {
     "data": {
      "text/plain": [
       "11"
      ]
     },
     "execution_count": 2,
     "metadata": {},
     "output_type": "execute_result"
    }
   ],
   "source": [
    "# Defining a function 'add' that takes two arguments\n",
    "def add(a,b):\n",
    "    result = a+b\n",
    "    return result\n",
    "\n",
    "# Calling the 'add' function with arguments 5 and 6\n",
    "add(5,6)\n"
   ]
  },
  {
   "cell_type": "code",
   "execution_count": 3,
   "metadata": {},
   "outputs": [
    {
     "name": "stdout",
     "output_type": "stream",
     "text": [
      "None\n"
     ]
    }
   ],
   "source": [
    "\n",
    "# Defining a function 'add' without parameters\n",
    "def add():\n",
    "    result = 4+6\n",
    "\n",
    "# Calling the 'add' function without arguments\n",
    "print(add())"
   ]
  },
  {
   "cell_type": "code",
   "execution_count": 5,
   "metadata": {},
   "outputs": [
    {
     "name": "stdout",
     "output_type": "stream",
     "text": [
      "81 9 9\n",
      "The product of 9 and 9 is 81\n"
     ]
    }
   ],
   "source": [
    "# Defining a function 'multiply' with two parameters\n",
    "def multiply(m,n):\n",
    "    product = m*n\n",
    "    return product, m , n\n",
    "\n",
    "# Calling the 'multiply' function with arguments 9 and 9\n",
    "prod, num1 , num2 = multiply(9,9)\n",
    "# Printing the results of the 'multiply' function\n",
    "print(prod,num1,num2)\n",
    "print('The product of {} and {} is {}'.format(num1,num2,prod))"
   ]
  },
  {
   "cell_type": "code",
   "execution_count": 6,
   "metadata": {},
   "outputs": [
    {
     "name": "stdout",
     "output_type": "stream",
     "text": [
      "surname, first name\n"
     ]
    }
   ],
   "source": [
    "# Using variables to create a formatted output\n",
    "arg1 = 'first name'\n",
    "arg2 = 'surname'\n",
    "output = 'surname, first name'\n",
    "print(arg2 + ', ' + arg1)"
   ]
  },
  {
   "cell_type": "markdown",
   "metadata": {},
   "source": [
    "# Libraries\n"
   ]
  },
  {
   "cell_type": "code",
   "execution_count": 9,
   "metadata": {},
   "outputs": [
    {
     "name": "stderr",
     "output_type": "stream",
     "text": [
      "\n",
      "[notice] A new release of pip is available: 23.2.1 -> 23.3.1\n",
      "[notice] To update, run: python.exe -m pip install --upgrade pip\n"
     ]
    },
    {
     "name": "stdout",
     "output_type": "stream",
     "text": [
      "Collecting numpy\n",
      "  Obtaining dependency information for numpy from https://files.pythonhosted.org/packages/da/3c/3ff05c2855eee52588f489a4e607e4a61699a0742aa03ccf641c77f9eb0a/numpy-1.26.2-cp311-cp311-win_amd64.whl.metadata\n",
      "  Downloading numpy-1.26.2-cp311-cp311-win_amd64.whl.metadata (61 kB)\n",
      "     ---------------------------------------- 0.0/61.2 kB ? eta -:--:--\n",
      "     ------------ ------------------------- 20.5/61.2 kB 640.0 kB/s eta 0:00:01\n",
      "     -------------------------------------- 61.2/61.2 kB 809.0 kB/s eta 0:00:00\n",
      "Downloading numpy-1.26.2-cp311-cp311-win_amd64.whl (15.8 MB)\n",
      "   ---------------------------------------- 0.0/15.8 MB ? eta -:--:--\n",
      "   -- ------------------------------------- 1.1/15.8 MB 22.4 MB/s eta 0:00:01\n",
      "   ---- ----------------------------------- 1.7/15.8 MB 18.3 MB/s eta 0:00:01\n",
      "   -------- ------------------------------- 3.3/15.8 MB 23.2 MB/s eta 0:00:01\n",
      "   ------------ --------------------------- 4.9/15.8 MB 26.3 MB/s eta 0:00:01\n",
      "   --------------- ------------------------ 6.0/15.8 MB 27.4 MB/s eta 0:00:01\n",
      "   ------------------- -------------------- 7.5/15.8 MB 26.8 MB/s eta 0:00:01\n",
      "   ----------------------- ---------------- 9.2/15.8 MB 28.1 MB/s eta 0:00:01\n",
      "   ---------------------------- ----------- 11.1/15.8 MB 31.2 MB/s eta 0:00:01\n",
      "   -------------------------------- ------- 12.9/15.8 MB 34.4 MB/s eta 0:00:01\n",
      "   ----------------------------------- ---- 14.1/15.8 MB 34.4 MB/s eta 0:00:01\n",
      "   ---------------------------------------  15.8/15.8 MB 32.7 MB/s eta 0:00:01\n",
      "   ---------------------------------------- 15.8/15.8 MB 29.7 MB/s eta 0:00:00\n",
      "Installing collected packages: numpy\n",
      "Successfully installed numpy-1.26.2\n",
      "[0.94736051 0.07668071 0.42754503 0.58961725 0.58480813 0.44415331\n",
      " 0.28310481 0.65331605 0.25425322 0.43995151]\n"
     ]
    }
   ],
   "source": [
    "# Installing NumPy if not already installed\n",
    "# Uncomment the following line and run it once to install NumPy using pip\n",
    "!pip install numpy\n",
    "\n",
    "# Importing NumPy library as np\n",
    "import numpy as np\n",
    "\n",
    "# Importing random module from NumPy\n",
    "from numpy import random\n",
    "\n",
    "# Generating a random 10x10 array using NumPy\n",
    "arr = np.random.rand(10, 10)\n",
    "\n",
    "# Printing the first row of the array\n",
    "print(arr[0, :])\n"
   ]
  },
  {
   "cell_type": "code",
   "execution_count": 10,
   "metadata": {},
   "outputs": [
    {
     "name": "stdout",
     "output_type": "stream",
     "text": [
      "[17, 26, 11, 28, 19]\n"
     ]
    }
   ],
   "source": [
    "# Importing the built-in random module\n",
    "import random\n",
    "randomlist = []\n",
    "# Generating a list of 5 random integers between 1 and 30\n",
    "for i in range(0,5):\n",
    "    n = random.randint(1,30)\n",
    "    randomlist.append(n)\n",
    "# Printing the list of random integers\n",
    "print(randomlist)"
   ]
  },
  {
   "cell_type": "code",
   "execution_count": 11,
   "metadata": {},
   "outputs": [
    {
     "name": "stdout",
     "output_type": "stream",
     "text": [
      "c:\\Users\\20194661\\OneDrive - TU Eindhoven\\Repos\\mlworkshop\n"
     ]
    }
   ],
   "source": [
    "# Folder operations\n",
    "import os\n",
    "# Getting the current working directory\n",
    "d = os.getcwd()\n",
    "# Printing the current working directory\n",
    "print(d)"
   ]
  },
  {
   "cell_type": "code",
   "execution_count": 12,
   "metadata": {},
   "outputs": [
    {
     "name": "stdout",
     "output_type": "stream",
     "text": [
      "['c:\\\\Users\\\\20194661\\\\OneDrive - TU Eindhoven\\\\Repos\\\\mlworkshop\\\\ImageClassification.ipynb', 'c:\\\\Users\\\\20194661\\\\OneDrive - TU Eindhoven\\\\Repos\\\\mlworkshop\\\\MachineLearning.ipynb', 'c:\\\\Users\\\\20194661\\\\OneDrive - TU Eindhoven\\\\Repos\\\\mlworkshop\\\\PythonBasics.ipynb']\n",
      "['c:\\\\Users\\\\20194661\\\\OneDrive - TU Eindhoven\\\\Repos\\\\mlworkshop\\\\PythonBasics.ipynb', 'c:\\\\Users\\\\20194661\\\\OneDrive - TU Eindhoven\\\\Repos\\\\mlworkshop\\\\MachineLearning.ipynb', 'c:\\\\Users\\\\20194661\\\\OneDrive - TU Eindhoven\\\\Repos\\\\mlworkshop\\\\ImageClassification.ipynb']\n",
      "ImageClassification.ipynb\n",
      "MachineLearning.ipynb\n",
      "PythonBasics.ipynb\n"
     ]
    }
   ],
   "source": [
    "# Importing the 'glob' function from the 'glob' module\n",
    "from glob import glob\n",
    "# Using glob to find all IPython notebooks in the current directory\n",
    "result = glob(d+'/*.ipynb')\n",
    "# Printing the list of IPython notebooks\n",
    "print(result)\n",
    "# Printing the list of IPython notebooks in reverse order\n",
    "print(result[::-1])\n",
    "\n",
    "# Printing the base names of the notebooks\n",
    "for i in result:\n",
    "    print(os.path.basename(i))"
   ]
  },
  {
   "cell_type": "code",
   "execution_count": 13,
   "metadata": {},
   "outputs": [
    {
     "name": "stdout",
     "output_type": "stream",
     "text": [
      "['c:\\\\Users\\\\20194661\\\\OneDrive - TU Eindhoven\\\\Repos\\\\mlworkshop\\\\Part1-Machine Learning Approaches for advanced Industrial Applications.pdf']\n"
     ]
    }
   ],
   "source": [
    "# Using glob with a pattern to find specific files\n",
    "from glob import glob\n",
    "result2 = glob(d+'/P*1*Li*.*')\n",
    "# Printing the list of files matching the pattern\n",
    "print(result2)"
   ]
  },
  {
   "cell_type": "markdown",
   "metadata": {},
   "source": [
    "# First Python Project\n"
   ]
  },
  {
   "cell_type": "markdown",
   "metadata": {},
   "source": [
    "# Create a calculator app\n",
    "using following steps:\n",
    "\n",
    "1) Display options\n",
    "2) get operation\n",
    "3) get operand\n",
    "4) Display output"
   ]
  },
  {
   "cell_type": "markdown",
   "metadata": {},
   "source": [
    "# Solution:\n",
    "This calculator app provides a simple command-line interface where the user can choose an operation (addition, subtraction, multiplication, or division), enter two numeric operands, and see the result. The loop continues until the user chooses to exit the calculator."
   ]
  },
  {
   "cell_type": "code",
   "execution_count": 14,
   "metadata": {},
   "outputs": [],
   "source": [
    "\n",
    "def add(a, b):\n",
    "    return a + b\n",
    "\n",
    "def subtract(a, b):\n",
    "    return a - b\n",
    "\n",
    "def multiply(a, b):\n",
    "    return a * b\n",
    "\n",
    "def divide(a, b):\n",
    "    if b != 0:\n",
    "        return a / b\n",
    "    else:\n",
    "        return \"Error: Cannot divide by zero.\"\n",
    "\n",
    "def calculator():\n",
    "    print(\"Welcome to the Simple Calculator App!\")\n",
    "\n",
    "    while True:\n",
    "        print(\"\\nOptions:\")\n",
    "        print(\"1. Addition\")\n",
    "        print(\"2. Subtraction\")\n",
    "        print(\"3. Multiplication\")\n",
    "        print(\"4. Division\")\n",
    "        print(\"5. Exit\")\n",
    "\n",
    "        choice = input(\"Select an option (1-5): \")\n",
    "\n",
    "        if choice == '5':\n",
    "            print(\"Exiting the calculator. Goodbye!\")\n",
    "            break\n",
    "\n",
    "        if choice in ('1', '2', '3', '4'):\n",
    "            try:\n",
    "                operand1 = float(input(\"Enter the first operand: \"))\n",
    "                operand2 = float(input(\"Enter the second operand: \"))\n",
    "            except ValueError:\n",
    "                print(\"Error: Invalid input. Please enter numeric values.\")\n",
    "                continue\n",
    "\n",
    "            if choice == '1':\n",
    "                result = add(operand1, operand2)\n",
    "                print(\"Result: {} + {} = {}\".format(operand1, operand2, result))\n",
    "            elif choice == '2':\n",
    "                result = subtract(operand1, operand2)\n",
    "                print(\"Result: {} - {} = {}\".format(operand1, operand2, result))\n",
    "            elif choice == '3':\n",
    "                result = multiply(operand1, operand2)\n",
    "                print(\"Result: {} * {} = {}\".format(operand1, operand2, result))\n",
    "            elif choice == '4':\n",
    "                result = divide(operand1, operand2)\n",
    "                print(\"Result: {} / {} = {}\".format(operand1, operand2, result))\n",
    "        else:\n",
    "            print(\"Error: Invalid choice. Please enter a number between 1 and 5.\")\n",
    "\n",
    "if __name__ == \"__main__\":\n",
    "    calculator()\n",
    "\n",
    "\n"
   ]
  },
  {
   "cell_type": "code",
   "execution_count": null,
   "metadata": {},
   "outputs": [],
   "source": []
  }
 ],
 "metadata": {
  "kernelspec": {
   "display_name": "Python 3",
   "language": "python",
   "name": "python3"
  },
  "language_info": {
   "codemirror_mode": {
    "name": "ipython",
    "version": 3
   },
   "file_extension": ".py",
   "mimetype": "text/x-python",
   "name": "python",
   "nbconvert_exporter": "python",
   "pygments_lexer": "ipython3",
   "version": "3.11.6"
  }
 },
 "nbformat": 4,
 "nbformat_minor": 2
}
