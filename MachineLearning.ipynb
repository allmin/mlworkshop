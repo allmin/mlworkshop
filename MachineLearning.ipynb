{
 "cells": [
  {
   "cell_type": "markdown",
   "metadata": {},
   "source": [
    "# Traditional Machine Learning and Deep Learning\n",
    "\n",
    "Author: Allmin Susaiyah\n",
    "\n",
    "Name of student: <fill your name>\n",
    "\n",
    "In this notebook, various machine learning operations of python are covered. shift + Enter will excecute each cell"
   ]
  },
  {
   "cell_type": "markdown",
   "metadata": {},
   "source": [
    "# Simple ML Example"
   ]
  },
  {
   "cell_type": "code",
   "execution_count": null,
   "metadata": {},
   "outputs": [],
   "source": [
    "import numpy as np\n",
    "X = np.array([[6000], [4000], [4500], [4230], [2227]]) #training\n",
    "y = np.array([15000, 23241, 43000, 9990, 69900])\n",
    "\n",
    "from sklearn.linear_model import LinearRegression\n",
    "clf = LinearRegression()\n",
    "clf.fit(X, y) \n",
    "coef = clf.coef_\n",
    "print(coef)\n"
   ]
  },
  {
   "cell_type": "code",
   "execution_count": null,
   "metadata": {},
   "outputs": [],
   "source": [
    "import matplotlib.pyplot as plt\n",
    "\n",
    "plt.plot()\n",
    "\n",
    "x_axis = np.linspace(0, 7000)\n",
    "y_axis = [(0- coef[0]*x) for x in x_axis]\n",
    "plt.plot(x_axis,y_axis)\n",
    "\n",
    "plt.plot(X,y, 'rX')"
   ]
  },
  {
   "cell_type": "code",
   "execution_count": null,
   "metadata": {},
   "outputs": [],
   "source": [
    "X_ = np.array([[1150], [5000]]) #validation\n",
    "y_ = np.array([3499, 12447])\n",
    "y_predicted = clf.predict(X_)\n",
    "print(type(y_))\n",
    "print(y_predicted, y_)\n",
    "\n",
    "from sklearn.metrics import mean_absolute_error\n",
    "error = mean_absolute_error(y_, y_predicted)\n",
    "print('error:',error)"
   ]
  },
  {
   "cell_type": "code",
   "execution_count": null,
   "metadata": {},
   "outputs": [],
   "source": [
    "print(clf.predict([[2815]])) #deployment\n",
    "print(clf.predict([[4300]]))\n"
   ]
  },
  {
   "cell_type": "markdown",
   "metadata": {},
   "source": [
    "# Problem varying performance"
   ]
  },
  {
   "cell_type": "code",
   "execution_count": null,
   "metadata": {},
   "outputs": [],
   "source": [
    "\n",
    "X = np.array([[6000], [4000], [4500], [4230], [5000]]) #training\n",
    "y = np.array([15000, 23241, 43000, 9990, 12447])\n",
    "\n",
    "clf = LinearRegression()\n",
    "clf.fit(X, y) \n",
    "coef = clf.coef_\n",
    "print(coef)\n",
    "plt.plot()\n",
    "\n",
    "x_axis = np.linspace(0, 7000)\n",
    "y_axis = [(0- coef[0]*x) for x in x_axis]\n",
    "plt.plot(x_axis,y_axis)\n",
    "\n",
    "plt.plot(X,y, 'rX')\n",
    "X_ = np.array([[1150], [2227]]) #validation\n",
    "y_ = np.array([3499, 69900])\n",
    "y_predicted = clf.predict(X_)\n",
    "print(type(y_))\n",
    "print(y_predicted, y_)\n",
    "\n",
    "\n",
    "error = mean_absolute_error(y_, y_predicted)\n",
    "print('error:',error)\n",
    "print(clf.predict([[2815]])) #deployment\n",
    "print(clf.predict([[4300]]))"
   ]
  },
  {
   "cell_type": "markdown",
   "metadata": {},
   "source": [
    "# Practical Example\n",
    "download data from: https://data.mendeley.com/datasets/7dybx7wyfn/3\n",
    "extract such that c:/mlworkshop has the folder 'C:/mlworkshopECG signals (1000 fragments)/MLII'"
   ]
  },
  {
   "cell_type": "code",
   "execution_count": null,
   "metadata": {},
   "outputs": [],
   "source": [
    "#import libraries\n",
    "import os\n",
    "%matplotlib inline\n",
    "import numpy as np\n",
    "from scipy import signal\n",
    "from scipy.io import loadmat\n",
    "from scipy.fftpack import fft"
   ]
  },
  {
   "cell_type": "code",
   "execution_count": null,
   "metadata": {},
   "outputs": [],
   "source": [
    "# defining data folders and extraction\n",
    "# here we are taking ecg signals of two classes : NSR and AFL\n",
    "# our aim is to classify these signals into respective classes\n",
    "\n",
    "SIGNAL_FOLDER_PATH = 'ECG signals (1000 fragments)'\n",
    "C1_path = SIGNAL_FOLDER_PATH + '/MLII/1 NSR'\n",
    "C2_path = SIGNAL_FOLDER_PATH + '/MLII/3 AFL'\n",
    "from glob import glob\n",
    "C1_list = glob(C1_path + '/*')\n",
    "C2_list = glob(C2_path + '/*')\n",
    "\n",
    "\n",
    "def norm1d(sig):\n",
    "    sig=np.float32(sig)\n",
    "    sig-=np.min(sig)\n",
    "    sig/=np.max(sig)\n",
    "    return(sig)\n",
    "\n",
    "def get_fft_label_mat(mat_file):\n",
    "    label = mat_file.strip(os.path.basename(mat_file))\n",
    "    print(label)\n",
    "    label = label.strip(os.path.sep)\n",
    "    print(label)\n",
    "    label = label.split('/')[-1]\n",
    "    print(label)\n",
    "    mat_dict = loadmat(mat_file)\n",
    "    mat_signal = mat_dict['val']\n",
    "    sig = norm1d(mat_signal[0])\n",
    "    N = len(sig)\n",
    "    fs = 360\n",
    "    sig_fft = fft(sig)\n",
    "    sig_fft = abs(sig_fft)[:N//2]\n",
    "    return (sig_fft,label)\n",
    "\n",
    "x,y = get_fft_label_mat(C2_list[0])\n",
    "print(C2_list[0])\n",
    "print(x)\n",
    "print(y)\n",
    "    \n",
    "\n",
    "    \n",
    "    "
   ]
  },
  {
   "cell_type": "code",
   "execution_count": null,
   "metadata": {},
   "outputs": [],
   "source": [
    "C1_list"
   ]
  },
  {
   "cell_type": "code",
   "execution_count": null,
   "metadata": {},
   "outputs": [],
   "source": [
    "#fetching the data and printing\n",
    "all_list = C1_list\n",
    "[all_list.append(i) for i in C2_list]\n",
    "\n",
    "for mat_file in all_list:\n",
    "    x,y = get_fft_label_mat(mat_file)\n",
    "    print(mat_file)\n",
    "    print(x)\n",
    "    print(y)"
   ]
  },
  {
   "cell_type": "code",
   "execution_count": null,
   "metadata": {},
   "outputs": [],
   "source": [
    "#fetching the data, appending data to list and printing\n",
    "\n",
    "X = []\n",
    "Y = []\n",
    "\n",
    "all_list = C1_list\n",
    "[all_list.append(i) for i in C2_list]\n",
    "\n",
    "for mat_file in all_list:\n",
    "    x,y = get_fft_label_mat(mat_file)\n",
    "    print(mat_file)\n",
    "    X.append(x)\n",
    "    Y.append(y)\n",
    "    print(x)\n",
    "    print(y)\n",
    "X= np.array(X)\n",
    "Y= np.array(Y)"
   ]
  },
  {
   "cell_type": "code",
   "execution_count": null,
   "metadata": {
    "scrolled": true
   },
   "outputs": [],
   "source": [
    "#display data size\n",
    "X.shape, Y.shape"
   ]
  },
  {
   "cell_type": "code",
   "execution_count": null,
   "metadata": {},
   "outputs": [],
   "source": [
    "# taking only first 100 fft coeffficients\n",
    "X = X[:,:100]\n",
    "X.shape"
   ]
  },
  {
   "cell_type": "code",
   "execution_count": null,
   "metadata": {},
   "outputs": [],
   "source": [
    "#splitting data into train and test sets\n",
    "# this helps in validating the model\n",
    "\n",
    "from sklearn.model_selection import train_test_split\n",
    "Xtrain, Xval, Ytrain, Yval = train_test_split(X,Y,test_size=0.25, random_state=42)\n"
   ]
  },
  {
   "cell_type": "code",
   "execution_count": null,
   "metadata": {},
   "outputs": [],
   "source": [
    "# Importing classifier and training it\n",
    "\n",
    "from sklearn.neural_network import MLPClassifier\n",
    "clf = MLPClassifier(solver='lbfgs', alpha=1e-5,\n",
    "                    hidden_layer_sizes=(1000, 4000, 256, 50), random_state=1)\n",
    "clf.fit(Xtrain, Ytrain)   \n",
    "#clf object is now a trained model"
   ]
  },
  {
   "cell_type": "code",
   "execution_count": null,
   "metadata": {},
   "outputs": [],
   "source": [
    "#testing the trained classifier\n",
    "Ypred = clf.predict(Xval)\n",
    "print(Ypred)\n",
    "print(Yval)"
   ]
  },
  {
   "cell_type": "code",
   "execution_count": null,
   "metadata": {
    "scrolled": true
   },
   "outputs": [],
   "source": [
    "#validating the predictions\n",
    "from sklearn.metrics import confusion_matrix,classification_report,accuracy_score\n",
    "cm = confusion_matrix(Yval,Ypred)\n",
    "print(cm)\n",
    "cr = classification_report(Yval,Ypred)\n",
    "print(cr)\n",
    "acs = accuracy_score(Yval, Ypred)\n",
    "print(acs)"
   ]
  },
  {
   "cell_type": "code",
   "execution_count": null,
   "metadata": {},
   "outputs": [],
   "source": [
    "#displaying the data and prediction and actual labels\n",
    "import matplotlib.pyplot as plt\n",
    "for (a,b,c) in zip(Xval,Yval,Ypred):\n",
    "    plt.semilogy(a)\n",
    "    plt.title(\"actual:{},predicted:{}\".format(b,c))\n",
    "    plt.show()\n"
   ]
  },
  {
   "cell_type": "code",
   "execution_count": null,
   "metadata": {},
   "outputs": [],
   "source": []
  },
  {
   "cell_type": "code",
   "execution_count": null,
   "metadata": {},
   "outputs": [],
   "source": []
  }
 ],
 "metadata": {
  "kernelspec": {
   "display_name": "Python 3",
   "language": "python",
   "name": "python3"
  },
  "language_info": {
   "codemirror_mode": {
    "name": "ipython",
    "version": 3
   },
   "file_extension": ".py",
   "mimetype": "text/x-python",
   "name": "python",
   "nbconvert_exporter": "python",
   "pygments_lexer": "ipython3",
   "version": "3.7.3"
  }
 },
 "nbformat": 4,
 "nbformat_minor": 2
}
